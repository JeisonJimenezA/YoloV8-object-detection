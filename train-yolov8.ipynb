{
 "cells": [
  {
   "cell_type": "code",
   "id": "initial_id",
   "metadata": {
    "collapsed": true,
    "ExecuteTime": {
     "end_time": "2024-06-11T00:35:20.282264Z",
     "start_time": "2024-06-11T00:35:14.091992Z"
    }
   },
   "source": [
    "import cv2\n",
    "import torch\n",
    "from datasets import load_dataset\n",
    "from ultralytics import YOLO\n",
    "import train"
   ],
   "outputs": [],
   "execution_count": 1
  },
  {
   "metadata": {
    "ExecuteTime": {
     "end_time": "2024-06-11T00:35:22.549468Z",
     "start_time": "2024-06-11T00:35:22.543153Z"
    }
   },
   "cell_type": "code",
   "source": "torch.cuda.is_available()",
   "id": "b18768a9d6ca81ca",
   "outputs": [
    {
     "data": {
      "text/plain": [
       "True"
      ]
     },
     "execution_count": 2,
     "metadata": {},
     "output_type": "execute_result"
    }
   ],
   "execution_count": 2
  },
  {
   "metadata": {
    "ExecuteTime": {
     "end_time": "2024-06-11T01:03:03.471979Z",
     "start_time": "2024-06-11T01:03:00.363731Z"
    }
   },
   "cell_type": "code",
   "source": "data = load_dataset(\"keremberke/valorant-object-detection\", \"full\")",
   "id": "1a14d2062b088667",
   "outputs": [],
   "execution_count": 15
  },
  {
   "metadata": {
    "ExecuteTime": {
     "end_time": "2024-06-11T01:03:06.055867Z",
     "start_time": "2024-06-11T01:03:06.048072Z"
    }
   },
   "cell_type": "code",
   "source": "data[\"train\"][10]",
   "id": "5f092335217a2598",
   "outputs": [
    {
     "data": {
      "text/plain": [
       "{'image_id': 1570,\n",
       " 'image': <PIL.JpegImagePlugin.JpegImageFile image mode=RGB size=416x416>,\n",
       " 'width': 416,\n",
       " 'height': 416,\n",
       " 'objects': {'id': [1628],\n",
       "  'area': [1053],\n",
       "  'bbox': [[160.0, 164.0, 19.5, 54.0]],\n",
       "  'category': [3]}}"
      ]
     },
     "execution_count": 16,
     "metadata": {},
     "output_type": "execute_result"
    }
   ],
   "execution_count": 16
  },
  {
   "metadata": {},
   "cell_type": "markdown",
   "source": "# Convert COCO format to Yolo format",
   "id": "21e19fb410b00b85"
  },
  {
   "metadata": {
    "ExecuteTime": {
     "end_time": "2024-06-11T01:09:04.584303Z",
     "start_time": "2024-06-11T01:03:10.859863Z"
    }
   },
   "cell_type": "code",
   "source": [
    "train.preprocessing(\"train\", data)\n",
    "train.preprocessing(\"test\", data)\n",
    "train.preprocessing(\"validation\", data)"
   ],
   "id": "5b9516e231e90c89",
   "outputs": [],
   "execution_count": 17
  },
  {
   "metadata": {},
   "cell_type": "markdown",
   "source": "# TRAIN YOLOV8",
   "id": "c5d92d3485a07434"
  },
  {
   "metadata": {
    "ExecuteTime": {
     "end_time": "2024-06-11T02:07:23.724617Z",
     "start_time": "2024-06-11T02:05:34.571118Z"
    }
   },
   "cell_type": "code",
   "source": [
    "model = YOLO(\"yolov8m.pt\")\n",
    "model.train(data=\"train.yaml\", epochs=10, batch=4, optimizer=\"Adam\")"
   ],
   "id": "5e77ba29061542f3",
   "outputs": [
    {
     "name": "stderr",
     "output_type": "stream",
     "text": [
      "New https://pypi.org/project/ultralytics/8.2.31 available  Update with 'pip install -U ultralytics'\n",
      "Ultralytics YOLOv8.0.112  Python-3.11.9 torch-2.3.1+cu121 CUDA:0 (NVIDIA GeForce RTX 4060 Ti, 16380MiB)\n",
      "\u001B[34m\u001B[1myolo\\engine\\trainer: \u001B[0mtask=detect, mode=train, model=yolov8m.pt, data=train.yaml, epochs=10, patience=50, batch=4, imgsz=640, save=True, save_period=-1, cache=False, device=None, workers=8, project=None, name=None, exist_ok=False, pretrained=False, optimizer=Adam, verbose=True, seed=0, deterministic=True, single_cls=False, rect=False, cos_lr=False, close_mosaic=0, resume=False, amp=True, fraction=1.0, profile=False, overlap_mask=True, mask_ratio=4, dropout=0.0, val=True, split=val, save_json=False, save_hybrid=False, conf=None, iou=0.7, max_det=300, half=False, dnn=False, plots=True, source=None, show=False, save_txt=False, save_conf=False, save_crop=False, show_labels=True, show_conf=True, vid_stride=1, line_width=None, visualize=False, augment=False, agnostic_nms=False, classes=None, retina_masks=False, boxes=True, format=torchscript, keras=False, optimize=False, int8=False, dynamic=False, simplify=False, opset=None, workspace=4, nms=False, lr0=0.01, lrf=0.01, momentum=0.937, weight_decay=0.0005, warmup_epochs=3.0, warmup_momentum=0.8, warmup_bias_lr=0.1, box=7.5, cls=0.5, dfl=1.5, pose=12.0, kobj=1.0, label_smoothing=0.0, nbs=64, hsv_h=0.015, hsv_s=0.7, hsv_v=0.4, degrees=0.0, translate=0.1, scale=0.5, shear=0.0, perspective=0.0, flipud=0.0, fliplr=0.5, mosaic=1.0, mixup=0.0, copy_paste=0.0, cfg=None, v5loader=False, tracker=botsort.yaml, save_dir=runs\\detect\\train\n",
      "Overriding model.yaml nc=80 with nc=3\n",
      "\n",
      "                   from  n    params  module                                       arguments                     \n",
      "  0                  -1  1      1392  ultralytics.nn.modules.conv.Conv             [3, 48, 3, 2]                 \n",
      "  1                  -1  1     41664  ultralytics.nn.modules.conv.Conv             [48, 96, 3, 2]                \n",
      "  2                  -1  2    111360  ultralytics.nn.modules.block.C2f             [96, 96, 2, True]             \n",
      "  3                  -1  1    166272  ultralytics.nn.modules.conv.Conv             [96, 192, 3, 2]               \n",
      "  4                  -1  4    813312  ultralytics.nn.modules.block.C2f             [192, 192, 4, True]           \n",
      "  5                  -1  1    664320  ultralytics.nn.modules.conv.Conv             [192, 384, 3, 2]              \n",
      "  6                  -1  4   3248640  ultralytics.nn.modules.block.C2f             [384, 384, 4, True]           \n",
      "  7                  -1  1   1991808  ultralytics.nn.modules.conv.Conv             [384, 576, 3, 2]              \n",
      "  8                  -1  2   3985920  ultralytics.nn.modules.block.C2f             [576, 576, 2, True]           \n",
      "  9                  -1  1    831168  ultralytics.nn.modules.block.SPPF            [576, 576, 5]                 \n",
      " 10                  -1  1         0  torch.nn.modules.upsampling.Upsample         [None, 2, 'nearest']          \n",
      " 11             [-1, 6]  1         0  ultralytics.nn.modules.conv.Concat           [1]                           \n",
      " 12                  -1  2   1993728  ultralytics.nn.modules.block.C2f             [960, 384, 2]                 \n",
      " 13                  -1  1         0  torch.nn.modules.upsampling.Upsample         [None, 2, 'nearest']          \n",
      " 14             [-1, 4]  1         0  ultralytics.nn.modules.conv.Concat           [1]                           \n",
      " 15                  -1  2    517632  ultralytics.nn.modules.block.C2f             [576, 192, 2]                 \n",
      " 16                  -1  1    332160  ultralytics.nn.modules.conv.Conv             [192, 192, 3, 2]              \n",
      " 17            [-1, 12]  1         0  ultralytics.nn.modules.conv.Concat           [1]                           \n",
      " 18                  -1  2   1846272  ultralytics.nn.modules.block.C2f             [576, 384, 2]                 \n",
      " 19                  -1  1   1327872  ultralytics.nn.modules.conv.Conv             [384, 384, 3, 2]              \n",
      " 20             [-1, 9]  1         0  ultralytics.nn.modules.conv.Concat           [1]                           \n",
      " 21                  -1  2   4207104  ultralytics.nn.modules.block.C2f             [960, 576, 2]                 \n",
      " 22        [15, 18, 21]  1   3777433  ultralytics.nn.modules.head.Detect           [3, [192, 384, 576]]          \n",
      "Model summary: 295 layers, 25858057 parameters, 25858041 gradients\n",
      "\n",
      "Transferred 469/475 items from pretrained weights\n",
      "\u001B[34m\u001B[1mAMP: \u001B[0mrunning Automatic Mixed Precision (AMP) checks with YOLOv8n...\n",
      "\u001B[34m\u001B[1mAMP: \u001B[0mchecks passed \n",
      "\u001B[34m\u001B[1moptimizer:\u001B[0m Adam(lr=0.01) with parameter groups 77 weight(decay=0.0), 84 weight(decay=0.0005), 83 bias\n",
      "\u001B[34m\u001B[1mtrain: \u001B[0mScanning C:\\Users\\jeiso\\PycharmProjects\\yolov8\\datasets\\train\\labels... 269 images, 2 backgrounds, 0 corrupt: 100%|██████████| 269/269 [00:00<00:00, 1221.91it/s]\n",
      "\u001B[34m\u001B[1mtrain: \u001B[0mNew cache created: C:\\Users\\jeiso\\PycharmProjects\\yolov8\\datasets\\train\\labels.cache\n",
      "\u001B[34m\u001B[1mval: \u001B[0mScanning C:\\Users\\jeiso\\PycharmProjects\\yolov8\\datasets\\valid\\labels... 43 images, 0 backgrounds, 0 corrupt: 100%|██████████| 43/43 [00:00<00:00, 980.47it/s]\n",
      "\u001B[34m\u001B[1mval: \u001B[0mNew cache created: C:\\Users\\jeiso\\PycharmProjects\\yolov8\\datasets\\valid\\labels.cache\n",
      "Plotting labels to runs\\detect\\train\\labels.jpg... \n",
      "Image sizes 640 train, 640 val\n",
      "Using 4 dataloader workers\n",
      "Logging results to \u001B[1mruns\\detect\\train\u001B[0m\n",
      "Starting training for 10 epochs...\n",
      "\n",
      "      Epoch    GPU_mem   box_loss   cls_loss   dfl_loss  Instances       Size\n",
      "       1/10      3.69G      1.605      2.833      1.231         26        640: 100%|██████████| 68/68 [00:08<00:00,  8.12it/s]\n",
      "                 Class     Images  Instances      Box(P          R      mAP50  mAP50-95): 100%|██████████| 6/6 [00:00<00:00,  9.04it/s]\n",
      "                   all         43        308          0          0          0          0\n",
      "\n",
      "      Epoch    GPU_mem   box_loss   cls_loss   dfl_loss  Instances       Size\n",
      "       2/10      3.84G      1.603      2.017      1.253         38        640: 100%|██████████| 68/68 [00:06<00:00, 10.70it/s]\n",
      "                 Class     Images  Instances      Box(P          R      mAP50  mAP50-95): 100%|██████████| 6/6 [00:00<00:00, 13.51it/s]\n",
      "                   all         43        308   0.000233     0.0049   0.000131   5.21e-05\n",
      "\n",
      "      Epoch    GPU_mem   box_loss   cls_loss   dfl_loss  Instances       Size\n",
      "       3/10       3.8G      1.534      1.869      1.226         12        640: 100%|██████████| 68/68 [00:06<00:00, 10.97it/s]\n",
      "                 Class     Images  Instances      Box(P          R      mAP50  mAP50-95): 100%|██████████| 6/6 [00:00<00:00, 19.39it/s]\n",
      "                   all         43        308   0.000233     0.0049   0.000131   5.21e-05\n",
      "\n",
      "      Epoch    GPU_mem   box_loss   cls_loss   dfl_loss  Instances       Size\n",
      "       4/10       3.8G      1.554      1.701      1.272         25        640: 100%|██████████| 68/68 [00:06<00:00, 11.12it/s]\n",
      "                 Class     Images  Instances      Box(P          R      mAP50  mAP50-95): 100%|██████████| 6/6 [00:00<00:00, 11.45it/s]\n",
      "                   all         43        308      0.233      0.596      0.265      0.162\n",
      "\n",
      "      Epoch    GPU_mem   box_loss   cls_loss   dfl_loss  Instances       Size\n",
      "       5/10      3.81G      1.562      1.666      1.221         37        640: 100%|██████████| 68/68 [00:06<00:00, 11.23it/s]\n",
      "                 Class     Images  Instances      Box(P          R      mAP50  mAP50-95): 100%|██████████| 6/6 [00:00<00:00, 11.42it/s]\n",
      "                   all         43        308      0.233      0.596      0.265      0.162\n",
      "\n",
      "      Epoch    GPU_mem   box_loss   cls_loss   dfl_loss  Instances       Size\n",
      "       6/10       3.8G      1.579      1.588      1.283         25        640: 100%|██████████| 68/68 [00:06<00:00, 10.62it/s]\n",
      "                 Class     Images  Instances      Box(P          R      mAP50  mAP50-95): 100%|██████████| 6/6 [00:00<00:00, 10.58it/s]\n",
      "                   all         43        308      0.569      0.382      0.301      0.191\n",
      "\n",
      "      Epoch    GPU_mem   box_loss   cls_loss   dfl_loss  Instances       Size\n",
      "       7/10      3.79G      1.444      1.512      1.231          8        640: 100%|██████████| 68/68 [00:06<00:00, 10.49it/s]\n",
      "                 Class     Images  Instances      Box(P          R      mAP50  mAP50-95): 100%|██████████| 6/6 [00:00<00:00, 10.68it/s]\n",
      "                   all         43        308      0.569      0.382      0.301      0.191\n",
      "\n",
      "      Epoch    GPU_mem   box_loss   cls_loss   dfl_loss  Instances       Size\n",
      "       8/10      3.81G      1.396       1.35      1.152         30        640: 100%|██████████| 68/68 [00:06<00:00, 10.75it/s]\n",
      "                 Class     Images  Instances      Box(P          R      mAP50  mAP50-95): 100%|██████████| 6/6 [00:00<00:00, 10.99it/s]\n",
      "                   all         43        308      0.613      0.556        0.6      0.402\n",
      "\n",
      "      Epoch    GPU_mem   box_loss   cls_loss   dfl_loss  Instances       Size\n",
      "       9/10       3.8G      1.385      1.336      1.206          3        640: 100%|██████████| 68/68 [00:06<00:00, 10.77it/s]\n",
      "                 Class     Images  Instances      Box(P          R      mAP50  mAP50-95): 100%|██████████| 6/6 [00:00<00:00, 11.28it/s]\n",
      "                   all         43        308      0.628      0.722      0.684      0.469\n",
      "\n",
      "      Epoch    GPU_mem   box_loss   cls_loss   dfl_loss  Instances       Size\n",
      "      10/10       3.8G      1.292      1.168       1.11          5        640: 100%|██████████| 68/68 [00:06<00:00, 10.65it/s]\n",
      "                 Class     Images  Instances      Box(P          R      mAP50  mAP50-95): 100%|██████████| 6/6 [00:00<00:00,  8.19it/s]\n",
      "                   all         43        308      0.653      0.764      0.767      0.547\n",
      "\n",
      "10 epochs completed in 0.024 hours.\n",
      "Optimizer stripped from runs\\detect\\train\\weights\\last.pt, 52.0MB\n",
      "Optimizer stripped from runs\\detect\\train\\weights\\best.pt, 52.0MB\n",
      "\n",
      "Validating runs\\detect\\train\\weights\\best.pt...\n",
      "Ultralytics YOLOv8.0.112  Python-3.11.9 torch-2.3.1+cu121 CUDA:0 (NVIDIA GeForce RTX 4060 Ti, 16380MiB)\n",
      "Model summary (fused): 218 layers, 25841497 parameters, 0 gradients\n",
      "                 Class     Images  Instances      Box(P          R      mAP50  mAP50-95): 100%|██████████| 6/6 [00:00<00:00,  7.74it/s]\n",
      "                   all         43        308      0.653      0.762      0.767      0.546\n",
      "                   LMI         43        204      0.695       0.58      0.729      0.524\n",
      "                 Pumps         43         62      0.471      0.731      0.641      0.447\n",
      "                   TAG         43         42      0.794      0.976       0.93      0.668\n",
      "Speed: 0.4ms preprocess, 9.6ms inference, 0.0ms loss, 1.2ms postprocess per image\n",
      "Results saved to \u001B[1mruns\\detect\\train\u001B[0m\n"
     ]
    }
   ],
   "execution_count": 21
  },
  {
   "metadata": {},
   "cell_type": "markdown",
   "source": "# Test trained model yolo",
   "id": "e9392e6d1273749e"
  },
  {
   "metadata": {
    "ExecuteTime": {
     "end_time": "2024-06-11T02:08:08.930025Z",
     "start_time": "2024-06-11T02:08:08.926383Z"
    }
   },
   "cell_type": "code",
   "source": [
    "import os\n",
    "import cv2\n",
    "from ultralytics import YOLO"
   ],
   "id": "708a3d60c8d39053",
   "outputs": [],
   "execution_count": 22
  },
  {
   "metadata": {
    "ExecuteTime": {
     "end_time": "2024-06-11T02:08:35.810550Z",
     "start_time": "2024-06-11T02:08:33.510931Z"
    }
   },
   "cell_type": "code",
   "source": [
    "# Directorios\n",
    "input_dir = \"datasets/valid/images\"\n",
    "output_dir = r\"C:\\Users\\jeiso\\PycharmProjects\\yolov8\\output\"  # Asegúrate de que este directorio exista\n",
    "\n",
    "# Modelo YOLO\n",
    "model_path = r\"runs/detect/train/weights/best.pt\"\n",
    "model = YOLO(model_path)\n",
    "\n",
    "# Procesar todas las imágenes en la carpeta de entrada\n",
    "for img_name in os.listdir(input_dir):\n",
    "    # Ruta completa de la imagen\n",
    "    img_path = os.path.join(input_dir, img_name)\n",
    "    \n",
    "    # Cargar la imagen\n",
    "    img = cv2.imread(img_path)\n",
    "    \n",
    "    # Realizar la predicción\n",
    "    pred = model.predict(img)[0]\n",
    "    pred = pred.plot()\n",
    "    \n",
    "    # Guardar la imagen procesada\n",
    "    output_path = os.path.join(output_dir, img_name)\n",
    "    cv2.imwrite(output_path, pred)\n"
   ],
   "id": "91c7fd42036856d",
   "outputs": [
    {
     "name": "stderr",
     "output_type": "stream",
     "text": [
      "\n",
      "0: 576x640 13 LMIs, 1 Pumps, 6 TAGs, 71.0ms\n",
      "Speed: 3.0ms preprocess, 71.0ms inference, 2.5ms postprocess per image at shape (1, 3, 640, 640)\n",
      "\n",
      "0: 640x480 5 LMIs, 1 TAG, 57.5ms\n",
      "Speed: 2.0ms preprocess, 57.5ms inference, 2.0ms postprocess per image at shape (1, 3, 640, 640)\n",
      "\n",
      "0: 448x640 25 LMIs, 69.3ms\n",
      "Speed: 1.5ms preprocess, 69.3ms inference, 2.0ms postprocess per image at shape (1, 3, 640, 640)\n",
      "\n",
      "0: 416x640 13 LMIs, 1 TAG, 64.8ms\n",
      "Speed: 2.0ms preprocess, 64.8ms inference, 2.0ms postprocess per image at shape (1, 3, 640, 640)\n",
      "\n",
      "0: 608x640 7 LMIs, 2 Pumpss, 3 TAGs, 67.2ms\n",
      "Speed: 2.0ms preprocess, 67.2ms inference, 2.0ms postprocess per image at shape (1, 3, 640, 640)\n",
      "\n",
      "0: 512x640 12 LMIs, 6 TAGs, 65.5ms\n",
      "Speed: 3.0ms preprocess, 65.5ms inference, 2.0ms postprocess per image at shape (1, 3, 640, 640)\n",
      "\n",
      "0: 448x640 11 LMIs, 9 TAGs, 8.5ms\n",
      "Speed: 2.0ms preprocess, 8.5ms inference, 2.0ms postprocess per image at shape (1, 3, 640, 640)\n",
      "\n",
      "0: 640x640 1 LMI, 3 Pumpss, 5 TAGs, 13.0ms\n",
      "Speed: 2.5ms preprocess, 13.0ms inference, 4.0ms postprocess per image at shape (1, 3, 640, 640)\n",
      "\n",
      "0: 640x640 4 Pumpss, 10.5ms\n",
      "Speed: 2.0ms preprocess, 10.5ms inference, 2.5ms postprocess per image at shape (1, 3, 640, 640)\n",
      "\n",
      "0: 448x640 10 LMIs, 1 Pumps, 5 TAGs, 10.1ms\n",
      "Speed: 2.0ms preprocess, 10.1ms inference, 1.0ms postprocess per image at shape (1, 3, 640, 640)\n",
      "\n",
      "0: 416x640 3 LMIs, 1 Pumps, 2 TAGs, 8.4ms\n",
      "Speed: 2.4ms preprocess, 8.4ms inference, 2.0ms postprocess per image at shape (1, 3, 640, 640)\n",
      "\n",
      "0: 448x640 13 LMIs, 1 Pumps, 10 TAGs, 8.0ms\n",
      "Speed: 1.0ms preprocess, 8.0ms inference, 2.4ms postprocess per image at shape (1, 3, 640, 640)\n",
      "\n",
      "0: 640x640 5 LMIs, 3 Pumpss, 11.4ms\n",
      "Speed: 3.0ms preprocess, 11.4ms inference, 2.0ms postprocess per image at shape (1, 3, 640, 640)\n",
      "\n",
      "0: 640x640 (no detections), 11.4ms\n",
      "Speed: 2.0ms preprocess, 11.4ms inference, 1.5ms postprocess per image at shape (1, 3, 640, 640)\n",
      "\n",
      "0: 640x640 (no detections), 12.4ms\n",
      "Speed: 2.0ms preprocess, 12.4ms inference, 0.5ms postprocess per image at shape (1, 3, 640, 640)\n",
      "\n",
      "0: 544x640 1 LMI, 1 Pumps, 3 TAGs, 63.8ms\n",
      "Speed: 1.5ms preprocess, 63.8ms inference, 2.0ms postprocess per image at shape (1, 3, 640, 640)\n",
      "\n",
      "0: 512x640 1 LMI, 6 Pumpss, 1 TAG, 9.2ms\n",
      "Speed: 2.0ms preprocess, 9.2ms inference, 1.0ms postprocess per image at shape (1, 3, 640, 640)\n",
      "\n",
      "0: 512x640 1 LMI, 6 Pumpss, 1 TAG, 9.9ms\n",
      "Speed: 1.0ms preprocess, 9.9ms inference, 3.4ms postprocess per image at shape (1, 3, 640, 640)\n",
      "\n",
      "0: 384x640 2 LMIs, 62.9ms\n",
      "Speed: 2.0ms preprocess, 62.9ms inference, 2.0ms postprocess per image at shape (1, 3, 640, 640)\n",
      "\n",
      "0: 448x640 6 LMIs, 1 TAG, 8.1ms\n",
      "Speed: 2.0ms preprocess, 8.1ms inference, 1.0ms postprocess per image at shape (1, 3, 640, 640)\n",
      "\n",
      "0: 480x640 4 Pumpss, 2 TAGs, 66.9ms\n",
      "Speed: 1.0ms preprocess, 66.9ms inference, 2.0ms postprocess per image at shape (1, 3, 640, 640)\n",
      "\n",
      "0: 480x640 4 Pumpss, 2 TAGs, 8.0ms\n",
      "Speed: 3.0ms preprocess, 8.0ms inference, 1.0ms postprocess per image at shape (1, 3, 640, 640)\n",
      "\n",
      "0: 448x640 4 Pumpss, 8.1ms\n",
      "Speed: 1.0ms preprocess, 8.1ms inference, 2.0ms postprocess per image at shape (1, 3, 640, 640)\n",
      "\n",
      "0: 384x640 11 Pumpss, 8.5ms\n",
      "Speed: 0.5ms preprocess, 8.5ms inference, 1.9ms postprocess per image at shape (1, 3, 640, 640)\n",
      "\n",
      "0: 448x640 2 LMIs, 2 Pumpss, 8.0ms\n",
      "Speed: 0.5ms preprocess, 8.0ms inference, 3.4ms postprocess per image at shape (1, 3, 640, 640)\n",
      "\n",
      "0: 352x640 2 LMIs, 2 Pumpss, 66.2ms\n",
      "Speed: 1.5ms preprocess, 66.2ms inference, 2.0ms postprocess per image at shape (1, 3, 640, 640)\n",
      "\n",
      "0: 608x640 9 Pumpss, 10.0ms\n",
      "Speed: 2.0ms preprocess, 10.0ms inference, 2.5ms postprocess per image at shape (1, 3, 640, 640)\n",
      "\n",
      "0: 320x640 1 LMI, 4 Pumpss, 65.9ms\n",
      "Speed: 1.0ms preprocess, 65.9ms inference, 2.0ms postprocess per image at shape (1, 3, 640, 640)\n",
      "\n",
      "0: 608x640 12 LMIs, 1 Pumps, 9.0ms\n",
      "Speed: 3.0ms preprocess, 9.0ms inference, 3.0ms postprocess per image at shape (1, 3, 640, 640)\n",
      "\n",
      "0: 640x640 1 LMI, 12.0ms\n",
      "Speed: 1.5ms preprocess, 12.0ms inference, 2.0ms postprocess per image at shape (1, 3, 640, 640)\n",
      "\n",
      "0: 640x512 8 LMIs, 9 Pumpss, 65.9ms\n",
      "Speed: 2.0ms preprocess, 65.9ms inference, 2.0ms postprocess per image at shape (1, 3, 640, 640)\n",
      "\n",
      "0: 448x640 2 LMIs, 3 Pumpss, 8.0ms\n",
      "Speed: 2.0ms preprocess, 8.0ms inference, 2.0ms postprocess per image at shape (1, 3, 640, 640)\n",
      "\n",
      "0: 320x640 14 LMIs, 2 Pumpss, 7.5ms\n",
      "Speed: 1.0ms preprocess, 7.5ms inference, 2.0ms postprocess per image at shape (1, 3, 640, 640)\n",
      "\n",
      "0: 448x640 24 LMIs, 2 Pumpss, 1 TAG, 9.6ms\n",
      "Speed: 1.0ms preprocess, 9.6ms inference, 2.0ms postprocess per image at shape (1, 3, 640, 640)\n",
      "\n",
      "0: 416x640 10 LMIs, 5 Pumpss, 7.9ms\n",
      "Speed: 2.0ms preprocess, 7.9ms inference, 2.5ms postprocess per image at shape (1, 3, 640, 640)\n",
      "\n",
      "0: 448x640 4 Pumpss, 1 TAG, 10.4ms\n",
      "Speed: 1.0ms preprocess, 10.4ms inference, 2.0ms postprocess per image at shape (1, 3, 640, 640)\n",
      "\n",
      "0: 448x640 13 LMIs, 7 Pumpss, 8.4ms\n",
      "Speed: 1.0ms preprocess, 8.4ms inference, 2.0ms postprocess per image at shape (1, 3, 640, 640)\n",
      "\n",
      "0: 640x480 1 LMI, 5 Pumpss, 11.9ms\n",
      "Speed: 1.5ms preprocess, 11.9ms inference, 3.0ms postprocess per image at shape (1, 3, 640, 640)\n",
      "\n",
      "0: 384x640 6 Pumpss, 10.5ms\n",
      "Speed: 1.0ms preprocess, 10.5ms inference, 1.0ms postprocess per image at shape (1, 3, 640, 640)\n",
      "\n",
      "0: 640x512 1 LMI, 1 Pumps, 11.4ms\n",
      "Speed: 1.5ms preprocess, 11.4ms inference, 1.0ms postprocess per image at shape (1, 3, 640, 640)\n",
      "\n",
      "0: 576x640 (no detections), 10.5ms\n",
      "Speed: 2.0ms preprocess, 10.5ms inference, 1.0ms postprocess per image at shape (1, 3, 640, 640)\n",
      "\n",
      "0: 544x640 3 Pumpss, 10.0ms\n",
      "Speed: 2.0ms preprocess, 10.0ms inference, 2.0ms postprocess per image at shape (1, 3, 640, 640)\n",
      "\n",
      "0: 192x640 (no detections), 64.8ms\n",
      "Speed: 1.0ms preprocess, 64.8ms inference, 1.5ms postprocess per image at shape (1, 3, 640, 640)\n"
     ]
    }
   ],
   "execution_count": 25
  },
  {
   "metadata": {},
   "cell_type": "code",
   "outputs": [],
   "execution_count": null,
   "source": "",
   "id": "e85b614419394fb9"
  }
 ],
 "metadata": {
  "kernelspec": {
   "display_name": "Python 3",
   "language": "python",
   "name": "python3"
  },
  "language_info": {
   "codemirror_mode": {
    "name": "ipython",
    "version": 2
   },
   "file_extension": ".py",
   "mimetype": "text/x-python",
   "name": "python",
   "nbconvert_exporter": "python",
   "pygments_lexer": "ipython2",
   "version": "2.7.6"
  }
 },
 "nbformat": 4,
 "nbformat_minor": 5
}
